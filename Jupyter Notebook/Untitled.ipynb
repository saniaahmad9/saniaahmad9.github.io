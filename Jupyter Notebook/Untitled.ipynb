{
 "cells": [
  {
   "cell_type": "code",
   "execution_count": 16,
   "metadata": {},
   "outputs": [],
   "source": [
    "# Dependencies\n",
    "import pandas as pd"
   ]
  },
  {
   "cell_type": "code",
   "execution_count": 17,
   "metadata": {},
   "outputs": [],
   "source": [
    "# Store filepath in a variable\n",
    "predictive_data = \"../CSV Files/Dates_reformated1PredictionCSV.csv\""
   ]
  },
  {
   "cell_type": "code",
   "execution_count": 18,
   "metadata": {},
   "outputs": [],
   "source": [
    "predictive_data_df = pd.read_csv(predictive_data)"
   ]
  },
  {
   "cell_type": "code",
   "execution_count": 19,
   "metadata": {},
   "outputs": [
    {
     "data": {
      "text/html": [
       "<div>\n",
       "<style scoped>\n",
       "    .dataframe tbody tr th:only-of-type {\n",
       "        vertical-align: middle;\n",
       "    }\n",
       "\n",
       "    .dataframe tbody tr th {\n",
       "        vertical-align: top;\n",
       "    }\n",
       "\n",
       "    .dataframe thead th {\n",
       "        text-align: right;\n",
       "    }\n",
       "</style>\n",
       "<table border=\"1\" class=\"dataframe\">\n",
       "  <thead>\n",
       "    <tr style=\"text-align: right;\">\n",
       "      <th></th>\n",
       "      <th>Unnamed: 0</th>\n",
       "      <th>Unnamed: 0.1</th>\n",
       "      <th>Latitude</th>\n",
       "      <th>Longitude</th>\n",
       "      <th>Timestamp</th>\n",
       "      <th>Pred: Nov 8, 2019</th>\n",
       "      <th>Collect: Actual Date/Time</th>\n",
       "      <th>Predicted: Actual Date/Time</th>\n",
       "    </tr>\n",
       "  </thead>\n",
       "  <tbody>\n",
       "    <tr>\n",
       "      <th>0</th>\n",
       "      <td>0</td>\n",
       "      <td>0</td>\n",
       "      <td>27.0716</td>\n",
       "      <td>-24.1535</td>\n",
       "      <td>1573173409</td>\n",
       "      <td>1.573196e+09</td>\n",
       "      <td>2019-11-07 19:36:49</td>\n",
       "      <td>2019-11-08 01:55:19.377099</td>\n",
       "    </tr>\n",
       "    <tr>\n",
       "      <th>1</th>\n",
       "      <td>1</td>\n",
       "      <td>1</td>\n",
       "      <td>28.4564</td>\n",
       "      <td>-22.7396</td>\n",
       "      <td>1573173439</td>\n",
       "      <td>1.573196e+09</td>\n",
       "      <td>2019-11-07 19:37:19</td>\n",
       "      <td>2019-11-08 01:50:21.700160</td>\n",
       "    </tr>\n",
       "    <tr>\n",
       "      <th>2</th>\n",
       "      <td>2</td>\n",
       "      <td>2</td>\n",
       "      <td>29.8462</td>\n",
       "      <td>-21.2601</td>\n",
       "      <td>1573173470</td>\n",
       "      <td>1.573195e+09</td>\n",
       "      <td>2019-11-07 19:37:50</td>\n",
       "      <td>2019-11-08 01:44:36.202846</td>\n",
       "    </tr>\n",
       "    <tr>\n",
       "      <th>3</th>\n",
       "      <td>3</td>\n",
       "      <td>3</td>\n",
       "      <td>31.1935</td>\n",
       "      <td>-19.7612</td>\n",
       "      <td>1573173500</td>\n",
       "      <td>1.573195e+09</td>\n",
       "      <td>2019-11-07 19:38:20</td>\n",
       "      <td>2019-11-08 01:38:13.233943</td>\n",
       "    </tr>\n",
       "    <tr>\n",
       "      <th>4</th>\n",
       "      <td>4</td>\n",
       "      <td>4</td>\n",
       "      <td>32.5199</td>\n",
       "      <td>-18.2155</td>\n",
       "      <td>1573173530</td>\n",
       "      <td>1.573195e+09</td>\n",
       "      <td>2019-11-07 19:38:50</td>\n",
       "      <td>2019-11-08 01:31:06.053528</td>\n",
       "    </tr>\n",
       "  </tbody>\n",
       "</table>\n",
       "</div>"
      ],
      "text/plain": [
       "   Unnamed: 0  Unnamed: 0.1  Latitude  Longitude   Timestamp  \\\n",
       "0           0             0   27.0716   -24.1535  1573173409   \n",
       "1           1             1   28.4564   -22.7396  1573173439   \n",
       "2           2             2   29.8462   -21.2601  1573173470   \n",
       "3           3             3   31.1935   -19.7612  1573173500   \n",
       "4           4             4   32.5199   -18.2155  1573173530   \n",
       "\n",
       "   Pred: Nov 8, 2019 Collect: Actual Date/Time Predicted: Actual Date/Time  \n",
       "0       1.573196e+09       2019-11-07 19:36:49  2019-11-08 01:55:19.377099  \n",
       "1       1.573196e+09       2019-11-07 19:37:19  2019-11-08 01:50:21.700160  \n",
       "2       1.573195e+09       2019-11-07 19:37:50  2019-11-08 01:44:36.202846  \n",
       "3       1.573195e+09       2019-11-07 19:38:20  2019-11-08 01:38:13.233943  \n",
       "4       1.573195e+09       2019-11-07 19:38:50  2019-11-08 01:31:06.053528  "
      ]
     },
     "execution_count": 19,
     "metadata": {},
     "output_type": "execute_result"
    }
   ],
   "source": [
    "predictive_data_df.head()"
   ]
  },
  {
   "cell_type": "code",
   "execution_count": 20,
   "metadata": {},
   "outputs": [],
   "source": [
    "# Dependencies and Setup\n",
    "import matplotlib.pyplot as plt\n",
    "import pandas as pd\n",
    "import numpy as np\n",
    "import requests\n",
    "import time\n",
    "\n",
    "# Import API key\n",
    "from config import api_key\n",
    "\n",
    "# Incorporated citipy to determine city based on latitude and longitude\n",
    "from citipy import citipy\n",
    "\n",
    "# # Output File (CSV)\n",
    "# output_data_file = \"../CSV_Files/cities.csv\"\n",
    "\n",
    "# # Range of latitudes and longitudes\n",
    "# lat_range = (-90, 90)\n",
    "# lng_range = (-180, 180)"
   ]
  },
  {
   "cell_type": "code",
   "execution_count": 6,
   "metadata": {},
   "outputs": [],
   "source": [
    "Cities = []\n",
    "for index, row in predictive_data_df.iterrows():\n",
    "    lat = row['Latitude']\n",
    "    lng = row['Longitude']\n",
    "    \n",
    "    try:\n",
    "        city = citipy.nearest_city(lat, lat).city_name\n",
    "#         predictive_data_df[index,'City'] = city\n",
    "        Cities.append(city)\n",
    "        \n",
    "    except:\n",
    "#         predictive_data_df[index,'City'] = 'None'\n",
    "        Cities.append('None')"
   ]
  },
  {
   "cell_type": "code",
   "execution_count": 21,
   "metadata": {},
   "outputs": [],
   "source": [
    "predictive_data_df['City'] = Cities"
   ]
  },
  {
   "cell_type": "code",
   "execution_count": 22,
   "metadata": {},
   "outputs": [
    {
     "data": {
      "text/plain": [
       "Index(['Unnamed: 0', 'Unnamed: 0.1', 'Latitude', 'Longitude', 'Timestamp',\n",
       "       'Pred: Nov 8, 2019', 'Collect: Actual Date/Time',\n",
       "       'Predicted: Actual Date/Time', 'City'],\n",
       "      dtype='object')"
      ]
     },
     "execution_count": 22,
     "metadata": {},
     "output_type": "execute_result"
    }
   ],
   "source": [
    "predictive_data_df.columns"
   ]
  },
  {
   "cell_type": "code",
   "execution_count": 23,
   "metadata": {},
   "outputs": [],
   "source": [
    "df1 = predictive_data_df.drop(['Unnamed: 0', 'Unnamed: 0.1'],axis = 1)"
   ]
  },
  {
   "cell_type": "code",
   "execution_count": 24,
   "metadata": {},
   "outputs": [
    {
     "data": {
      "text/html": [
       "<div>\n",
       "<style scoped>\n",
       "    .dataframe tbody tr th:only-of-type {\n",
       "        vertical-align: middle;\n",
       "    }\n",
       "\n",
       "    .dataframe tbody tr th {\n",
       "        vertical-align: top;\n",
       "    }\n",
       "\n",
       "    .dataframe thead th {\n",
       "        text-align: right;\n",
       "    }\n",
       "</style>\n",
       "<table border=\"1\" class=\"dataframe\">\n",
       "  <thead>\n",
       "    <tr style=\"text-align: right;\">\n",
       "      <th></th>\n",
       "      <th>Latitude</th>\n",
       "      <th>Longitude</th>\n",
       "      <th>Timestamp</th>\n",
       "      <th>Pred: Nov 8, 2019</th>\n",
       "      <th>Collect: Actual Date/Time</th>\n",
       "      <th>Predicted: Actual Date/Time</th>\n",
       "      <th>City</th>\n",
       "    </tr>\n",
       "  </thead>\n",
       "  <tbody>\n",
       "    <tr>\n",
       "      <th>0</th>\n",
       "      <td>27.0716</td>\n",
       "      <td>-24.1535</td>\n",
       "      <td>1573173409</td>\n",
       "      <td>1.573196e+09</td>\n",
       "      <td>2019-11-07 19:36:49</td>\n",
       "      <td>2019-11-08 01:55:19.377099</td>\n",
       "      <td>matay</td>\n",
       "    </tr>\n",
       "    <tr>\n",
       "      <th>1</th>\n",
       "      <td>28.4564</td>\n",
       "      <td>-22.7396</td>\n",
       "      <td>1573173439</td>\n",
       "      <td>1.573196e+09</td>\n",
       "      <td>2019-11-07 19:37:19</td>\n",
       "      <td>2019-11-08 01:50:21.700160</td>\n",
       "      <td>matay</td>\n",
       "    </tr>\n",
       "    <tr>\n",
       "      <th>2</th>\n",
       "      <td>29.8462</td>\n",
       "      <td>-21.2601</td>\n",
       "      <td>1573173470</td>\n",
       "      <td>1.573195e+09</td>\n",
       "      <td>2019-11-07 19:37:50</td>\n",
       "      <td>2019-11-08 01:44:36.202846</td>\n",
       "      <td>el faiyum</td>\n",
       "    </tr>\n",
       "    <tr>\n",
       "      <th>3</th>\n",
       "      <td>31.1935</td>\n",
       "      <td>-19.7612</td>\n",
       "      <td>1573173500</td>\n",
       "      <td>1.573195e+09</td>\n",
       "      <td>2019-11-07 19:38:20</td>\n",
       "      <td>2019-11-08 01:38:13.233943</td>\n",
       "      <td>el mahalla el kubra</td>\n",
       "    </tr>\n",
       "    <tr>\n",
       "      <th>4</th>\n",
       "      <td>32.5199</td>\n",
       "      <td>-18.2155</td>\n",
       "      <td>1573173530</td>\n",
       "      <td>1.573195e+09</td>\n",
       "      <td>2019-11-07 19:38:50</td>\n",
       "      <td>2019-11-08 01:31:06.053528</td>\n",
       "      <td>port said</td>\n",
       "    </tr>\n",
       "  </tbody>\n",
       "</table>\n",
       "</div>"
      ],
      "text/plain": [
       "   Latitude  Longitude   Timestamp  Pred: Nov 8, 2019  \\\n",
       "0   27.0716   -24.1535  1573173409       1.573196e+09   \n",
       "1   28.4564   -22.7396  1573173439       1.573196e+09   \n",
       "2   29.8462   -21.2601  1573173470       1.573195e+09   \n",
       "3   31.1935   -19.7612  1573173500       1.573195e+09   \n",
       "4   32.5199   -18.2155  1573173530       1.573195e+09   \n",
       "\n",
       "  Collect: Actual Date/Time Predicted: Actual Date/Time                 City  \n",
       "0       2019-11-07 19:36:49  2019-11-08 01:55:19.377099                matay  \n",
       "1       2019-11-07 19:37:19  2019-11-08 01:50:21.700160                matay  \n",
       "2       2019-11-07 19:37:50  2019-11-08 01:44:36.202846            el faiyum  \n",
       "3       2019-11-07 19:38:20  2019-11-08 01:38:13.233943  el mahalla el kubra  \n",
       "4       2019-11-07 19:38:50  2019-11-08 01:31:06.053528            port said  "
      ]
     },
     "execution_count": 24,
     "metadata": {},
     "output_type": "execute_result"
    }
   ],
   "source": [
    "df1.head()"
   ]
  },
  {
   "cell_type": "code",
   "execution_count": 28,
   "metadata": {},
   "outputs": [],
   "source": [
    "jsondf = df1.to_dict(orient='records')"
   ]
  },
  {
   "cell_type": "code",
   "execution_count": 30,
   "metadata": {},
   "outputs": [],
   "source": [
    "df1.to_json(\"../Jupyter Notebook/df1.js\", orient = 'records')"
   ]
  },
  {
   "cell_type": "code",
   "execution_count": null,
   "metadata": {},
   "outputs": [],
   "source": []
  }
 ],
 "metadata": {
  "kernelspec": {
   "display_name": "Python 3",
   "language": "python",
   "name": "python3"
  },
  "language_info": {
   "codemirror_mode": {
    "name": "ipython",
    "version": 3
   },
   "file_extension": ".py",
   "mimetype": "text/x-python",
   "name": "python",
   "nbconvert_exporter": "python",
   "pygments_lexer": "ipython3",
   "version": "3.7.3"
  }
 },
 "nbformat": 4,
 "nbformat_minor": 2
}
